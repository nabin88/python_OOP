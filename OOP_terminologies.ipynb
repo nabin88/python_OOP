{
 "cells": [
  {
   "cell_type": "markdown",
   "id": "2689505c",
   "metadata": {},
   "source": [
    "# Some terminologies for OOP in Python\n",
    "\n",
    "Here are some common terminologies used in object-oriented programming (OOP) in Python:\n",
    "\n",
    "$\\textbf{Class}$: A blueprint or template that defines the properties and behaviors of objects. It specifies the attributes (variables) and methods (functions) that objects of that class can have.\n",
    "\n",
    "$\\textbf{Attribute}$: A variable associated with a class or object that stores data.\n",
    "\n",
    "$\\textbf{Class Variable/Attribute}$: A variable shared by all instances/objects of a class. Class variables have the same value across all objects of a class and are typically defined outside of any method in the class.\n",
    "\n",
    "$\\textbf{Constructor}$: A special method used to initialize objects of a class. It is typically called when an object is created. In Python, the constructor method is named __init__().\n",
    "\n",
    "$\\textbf{Method}$: A function defined inside a class that performs a specific action or behavior. Methods can access and modify the object's attributes.\n",
    "\n",
    "$\\textbf{Object}$: An instance of a class. It represents a specific entity that has its own unique state and behavior based on the class definition.\n",
    "\n",
    "$\\textbf{Instance Variable}$: A variable specific to each instance/object of a class. Instance variables hold unique data for each object and can be accessed and modified within methods of the class.\n",
    "\n",
    "These are just a few key terms used in object-oriented programming in Python. Understanding these terminologies is essential for writing clean and efficient object-oriented code. The figure below illustrates these terms in a Python script."
   ]
  },
  {
   "cell_type": "markdown",
   "id": "afdabdee",
   "metadata": {},
   "source": [
    " <img src=\"terminologies.png\" width=\"800\" height=\"400\">"
   ]
  }
 ],
 "metadata": {
  "kernelspec": {
   "display_name": "Python 3 (ipykernel)",
   "language": "python",
   "name": "python3"
  },
  "language_info": {
   "codemirror_mode": {
    "name": "ipython",
    "version": 3
   },
   "file_extension": ".py",
   "mimetype": "text/x-python",
   "name": "python",
   "nbconvert_exporter": "python",
   "pygments_lexer": "ipython3",
   "version": "3.11.4"
  }
 },
 "nbformat": 4,
 "nbformat_minor": 5
}
