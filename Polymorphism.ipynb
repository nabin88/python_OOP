{
 "cells": [
  {
   "cell_type": "markdown",
   "id": "d37758de",
   "metadata": {},
   "source": [
    "# Polymorphism in Python OOP\n",
    "\n",
    "Polymorphism in object-oriented programming allows objects of different classes to be treated as objects of a common superclass. It provides a way to write flexible and reusable code. Here's an example that demonstrates polymorphism in Python:"
   ]
  },
  {
   "cell_type": "code",
   "execution_count": 1,
   "id": "15000658",
   "metadata": {},
   "outputs": [],
   "source": [
    "class Vehicle:\n",
    "    def __init__(self, kind):\n",
    "        self.kind = kind\n",
    "    def whichVehicle(self):\n",
    "        pass\n",
    "    \n",
    "class Car(Vehicle):\n",
    "    def whichVehicle(self):\n",
    "        return \"Car\"\n",
    "\n",
    "class Truck(Vehicle):\n",
    "    def whichVehicle(self):\n",
    "        return \"Truck\""
   ]
  },
  {
   "cell_type": "code",
   "execution_count": 2,
   "id": "9e99c3c8",
   "metadata": {},
   "outputs": [],
   "source": [
    "# instances of different vehicle classes\n",
    "car = Car(\"Sedan\")\n",
    "truck = Truck(\"Big body\")"
   ]
  },
  {
   "cell_type": "code",
   "execution_count": 3,
   "id": "683db0ef",
   "metadata": {},
   "outputs": [
    {
     "data": {
      "text/plain": [
       "'Car'"
      ]
     },
     "execution_count": 3,
     "metadata": {},
     "output_type": "execute_result"
    }
   ],
   "source": [
    "# Calling the polymorphic function 'Car' with an instance 'car'\n",
    "car.whichVehicle()"
   ]
  },
  {
   "cell_type": "code",
   "execution_count": 4,
   "id": "4fbb3575",
   "metadata": {},
   "outputs": [
    {
     "data": {
      "text/plain": [
       "'Truck'"
      ]
     },
     "execution_count": 4,
     "metadata": {},
     "output_type": "execute_result"
    }
   ],
   "source": [
    "# Calling the polymorphic function 'Truck' with an instance 'truck'\n",
    "truck.whichVehicle()"
   ]
  },
  {
   "cell_type": "markdown",
   "id": "7cbf59ca",
   "metadata": {},
   "source": [
    "In this example, we define a base class $\\textbf{Vehicle}$ with a method $\\textbf{whichVehicle()}$. The Car and Truck classes inherit from the $\\textbf{Vehicle}$ class and override the $\\textbf{whichVehicle()}$ method to provide their specific types. The $\\textbf{whichVehicle()}$ function is a polymorphic function that accepts an instance of the $\\textbf{Vehicle}$ class or its subclasses as an argument. It invokes the $\\textbf{whichVehicle()}$ method on the passed object, and the implementation of $\\textbf{whichVehicle()}$ corresponding to the object's actual type is executed dynamically.\n",
    "\n",
    "By utilizing polymorphism, we can call the $\\textbf{whichVehicle()}$ function with different vehicle instances, such as Car and Truck. This allows us to dynamically execute the corresponding $\\textbf{whichVehicle()}$ method based on the actual object type, producing the appropriate vehicle type for each vehicle instance."
   ]
  }
 ],
 "metadata": {
  "kernelspec": {
   "display_name": "Python 3 (ipykernel)",
   "language": "python",
   "name": "python3"
  },
  "language_info": {
   "codemirror_mode": {
    "name": "ipython",
    "version": 3
   },
   "file_extension": ".py",
   "mimetype": "text/x-python",
   "name": "python",
   "nbconvert_exporter": "python",
   "pygments_lexer": "ipython3",
   "version": "3.11.4"
  }
 },
 "nbformat": 4,
 "nbformat_minor": 5
}
