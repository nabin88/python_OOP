{
 "cells": [
  {
   "cell_type": "markdown",
   "id": "337868db",
   "metadata": {},
   "source": [
    "# Class and Static methods in Python\n",
    "\n",
    "In Python, class and static methods are two well-known methods that can be defined within a class. At first glance, they look trivial but serves you really well as you develop programming habits in Python. Let me briefly discuss their characteristics and provide you examples to shed light on their purposes.\n",
    "\n",
    "## Class Methods:\n",
    "\n",
    "Class methods are methods that are called on the class itself, rather than on a specific object instance. They are defined using the @classmethod decorator and receive the class as the first argument, conventionally named cls. Class methods can be used to perform operations that involve the class as a whole, such as creating alternative constructors or modifying class-level variables. They can be accessed and invoked using the class name, regardless of whether an object instance has been created.\n",
    "\n",
    "## Satic Methods:\n",
    "\n",
    "A static method in Python is a utility method that performs a task in isolation, similar to static methods as seen in other languages too. It is bound to the class itself rather than an object instance, allowing it to be called using the class name.\n",
    "\n",
    "Unlike instance methods or class methods, a static method does not have access to class or instance variables. It does not receive an implicit first argument like self or cls, and therefore cannot modify the state of the object or class. Instead, it operates independently, performing its task without relying on specific object or class data."
   ]
  },
  {
   "cell_type": "code",
   "execution_count": 1,
   "id": "c037b96e",
   "metadata": {},
   "outputs": [],
   "source": [
    "class Reptiles:\n",
    "    '''class attributes'''\n",
    "    way_of_walking = 'crawl'\n",
    "    \n",
    "    def __init__(self, color):\n",
    "        self.color = color\n",
    "    \n",
    "    # instance method\n",
    "    def reptile_color(self):\n",
    "        print(f'The color of the reptile is {self.color}.')\n",
    "\n",
    "    @classmethod\n",
    "    def class_method(cls):\n",
    "        # Accessing class variables\n",
    "        print(cls.way_of_walking)\n",
    "        \n",
    "    @staticmethod\n",
    "    def static_method(venom):\n",
    "        if venom == 'type1':\n",
    "            syringe = 'Class A'\n",
    "        else: \n",
    "            syringe = 'Class B'\n",
    "        return syringe"
   ]
  },
  {
   "cell_type": "code",
   "execution_count": 2,
   "id": "89480d05",
   "metadata": {},
   "outputs": [],
   "source": [
    "snake1 = Reptiles('black')"
   ]
  },
  {
   "cell_type": "code",
   "execution_count": 3,
   "id": "8d0287b4",
   "metadata": {},
   "outputs": [
    {
     "name": "stdout",
     "output_type": "stream",
     "text": [
      "crawl\n"
     ]
    }
   ],
   "source": [
    "snake1.class_method()"
   ]
  },
  {
   "cell_type": "code",
   "execution_count": 4,
   "id": "5418138e",
   "metadata": {},
   "outputs": [
    {
     "name": "stdout",
     "output_type": "stream",
     "text": [
      "crawl\n"
     ]
    }
   ],
   "source": [
    "Reptiles('brown').class_method()"
   ]
  },
  {
   "cell_type": "code",
   "execution_count": 5,
   "id": "b00b9be6",
   "metadata": {},
   "outputs": [],
   "source": [
    "snake2 = Reptiles('black and white')"
   ]
  },
  {
   "cell_type": "code",
   "execution_count": 6,
   "id": "9126aaa2",
   "metadata": {},
   "outputs": [
    {
     "data": {
      "text/plain": [
       "'Class B'"
      ]
     },
     "execution_count": 6,
     "metadata": {},
     "output_type": "execute_result"
    }
   ],
   "source": [
    "snake2.static_method('type2')"
   ]
  },
  {
   "cell_type": "code",
   "execution_count": 7,
   "id": "71b9be6f",
   "metadata": {},
   "outputs": [
    {
     "data": {
      "text/plain": [
       "'Class A'"
      ]
     },
     "execution_count": 7,
     "metadata": {},
     "output_type": "execute_result"
    }
   ],
   "source": [
    "Reptiles('black and white').static_method('type1')"
   ]
  }
 ],
 "metadata": {
  "kernelspec": {
   "display_name": "Python 3 (ipykernel)",
   "language": "python",
   "name": "python3"
  },
  "language_info": {
   "codemirror_mode": {
    "name": "ipython",
    "version": 3
   },
   "file_extension": ".py",
   "mimetype": "text/x-python",
   "name": "python",
   "nbconvert_exporter": "python",
   "pygments_lexer": "ipython3",
   "version": "3.11.4"
  }
 },
 "nbformat": 4,
 "nbformat_minor": 5
}
