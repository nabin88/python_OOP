{
 "cells": [
  {
   "cell_type": "markdown",
   "id": "9bf39528",
   "metadata": {},
   "source": [
    "# Inheritance in Python\n",
    "\n",
    "Inheritance is one of the most useful concepts in object-oriented programming in any language. It allowas a class to inherit methods and attributes from other classes. The main class is called 'superclass' and the classes that $\\textbf{inherit}$ from the superclass are called $\\textbf{child classes}$. The child classes inherit the attributes and behaviors of the parent class, and can also add its own unique attributes and behaviors or override existing ones.\n",
    "\n",
    "Let's try to see the ideas of inheritance in Python with an example. In this example, we define a class called 'Customer' for a hotel. "
   ]
  },
  {
   "cell_type": "code",
   "execution_count": 1,
   "id": "2cd99a8a",
   "metadata": {},
   "outputs": [],
   "source": [
    "# super class\n",
    "class Customer:\n",
    "    def __init__(self, name, days):\n",
    "        self.name = name\n",
    "        self.days = days\n",
    "\n",
    "    def daysOfStay(self):\n",
    "        print(f'{self.name} is going to stay for {self.days} in our hotel.')\n",
    "        \n",
    "    def isVIP(self):\n",
    "        pass\n",
    "\n",
    "# child class \n",
    "class Room(Customer):\n",
    "    def isVIP(self, level):\n",
    "        if level == ['One', 'Two']:\n",
    "            return \"The customer is a VIP.\"\n",
    "        else:\n",
    "            return \"The customer is from a general category.\""
   ]
  },
  {
   "cell_type": "code",
   "execution_count": 2,
   "id": "774fc875",
   "metadata": {},
   "outputs": [
    {
     "name": "stdout",
     "output_type": "stream",
     "text": [
      "None\n"
     ]
    },
    {
     "ename": "TypeError",
     "evalue": "Room.isVIP() missing 1 required positional argument: 'level'",
     "output_type": "error",
     "traceback": [
      "\u001b[0;31m---------------------------------------------------------------------------\u001b[0m",
      "\u001b[0;31mTypeError\u001b[0m                                 Traceback (most recent call last)",
      "Cell \u001b[0;32mIn[2], line 7\u001b[0m\n\u001b[1;32m      5\u001b[0m \u001b[38;5;66;03m# Calling the inherited method from the parent class\u001b[39;00m\n\u001b[1;32m      6\u001b[0m \u001b[38;5;28mprint\u001b[39m(customer\u001b[38;5;241m.\u001b[39misVIP())  \u001b[38;5;66;03m# Output: \"Meow!\"\u001b[39;00m\n\u001b[0;32m----> 7\u001b[0m \u001b[38;5;28mprint\u001b[39m(\u001b[43mdetails\u001b[49m\u001b[38;5;241;43m.\u001b[39;49m\u001b[43misVIP\u001b[49m\u001b[43m(\u001b[49m\u001b[43m)\u001b[49m)  \u001b[38;5;66;03m# Output: \"Woof!\"\u001b[39;00m\n",
      "\u001b[0;31mTypeError\u001b[0m: Room.isVIP() missing 1 required positional argument: 'level'"
     ]
    }
   ],
   "source": [
    "# Creating instances of the child classes\n",
    "customer = Customer(\"Nabin\", 7)\n",
    "details = Room('Nabin', 7)\n",
    "\n",
    "# Calling the inherited method from the parent class\n",
    "print(customer.isVIP())  # Output: \"Meow!\"\n",
    "print(details.isVIP())  # Output: \"Woof!\""
   ]
  },
  {
   "cell_type": "code",
   "execution_count": 3,
   "id": "0432f591",
   "metadata": {},
   "outputs": [
    {
     "ename": "TypeError",
     "evalue": "Customer.__init__() missing 2 required positional arguments: 'name' and 'days'",
     "output_type": "error",
     "traceback": [
      "\u001b[0;31m---------------------------------------------------------------------------\u001b[0m",
      "\u001b[0;31mTypeError\u001b[0m                                 Traceback (most recent call last)",
      "Cell \u001b[0;32mIn[3], line 1\u001b[0m\n\u001b[0;32m----> 1\u001b[0m details2 \u001b[38;5;241m=\u001b[39m \u001b[43mRoom\u001b[49m\u001b[43m(\u001b[49m\u001b[43m)\u001b[49m\n",
      "\u001b[0;31mTypeError\u001b[0m: Customer.__init__() missing 2 required positional arguments: 'name' and 'days'"
     ]
    }
   ],
   "source": [
    "details2 = Room()"
   ]
  },
  {
   "cell_type": "code",
   "execution_count": 4,
   "id": "0f173e0a",
   "metadata": {},
   "outputs": [
    {
     "name": "stdout",
     "output_type": "stream",
     "text": [
      "The customer is from a general category.\n"
     ]
    }
   ],
   "source": [
    "print(details.isVIP('Three'))"
   ]
  },
  {
   "cell_type": "markdown",
   "id": "3008eaf1",
   "metadata": {},
   "source": [
    "In the above example, the $\\textbf{Customer}$ class is the parent class, and $\\textbf{Room}$ is a child class which inherits from Customer. Each child class defines its own implementation of the isVIP() method, which overrides the method inherited from the parent class. When calling the isVIP() method on the instances of the child classes, they invoke their respective implementations.\n",
    "\n",
    "Inheritance allows for code reuse, promotes modularity, and supports the creation of specialized classes that inherit and extend the functionalities of more general classes. It is a key concept in building hierarchical class structures and implementing polymorphism in object-oriented programming."
   ]
  }
 ],
 "metadata": {
  "kernelspec": {
   "display_name": "Python 3 (ipykernel)",
   "language": "python",
   "name": "python3"
  },
  "language_info": {
   "codemirror_mode": {
    "name": "ipython",
    "version": 3
   },
   "file_extension": ".py",
   "mimetype": "text/x-python",
   "name": "python",
   "nbconvert_exporter": "python",
   "pygments_lexer": "ipython3",
   "version": "3.11.4"
  }
 },
 "nbformat": 4,
 "nbformat_minor": 5
}
