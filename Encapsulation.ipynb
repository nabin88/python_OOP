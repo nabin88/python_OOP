{
 "cells": [
  {
   "cell_type": "markdown",
   "id": "96cf0efe",
   "metadata": {},
   "source": [
    "# Encapsulation in Python\n",
    "\n",
    "In Python, encapsulation is a fundamental concept of object-oriented programming (OOP) that involves bundling data and methods together within a class. It allows the class to control access to its own members, ensuring that they are used and modified appropriately. It helps in maintaining the integrity and consistency of an object's state by providing controlled access to\n",
    "\n",
    "## Is a student ready for graduation?\n",
    "\n",
    "This is a simple example of a script written using the object oriented programming in Python. We can use it to check the details of a student, for example, age, ethnicity, enrollment year, credit hours, number of publications. If a professor in a university has a big group of students working for him, programs like this can be useful to keep track of them.\n",
    "\n",
    "In this example, we have a Students class that represents a student object. The attributes ethnicity and year_enrolled are encapsulated within the class. To access these attributes from outside the class, we use getter and setter methods. The getter methods (get_Ethnicity() and get_YearEnrolled() allow us to retrieve the values of the attributes, while the setter methods (set_Ethnicity() and set_YearEnrolled() allow us to modify the values of the attributes.\n",
    "\n",
    "In this particular example, a student will meet the requirements for graduation if he completes 120 credit hours and publish at least one paper."
   ]
  },
  {
   "cell_type": "code",
   "execution_count": 1,
   "id": "7824e902",
   "metadata": {},
   "outputs": [],
   "source": [
    "class Students:\n",
    "    def __init__(self, name, age, ethnicity, year_enrolled):\n",
    "        self.name = name\n",
    "        self.age = age\n",
    "        self.__ethnicity = ethnicity\n",
    "        self.__year_enrolled = year_enrolled\n",
    "\n",
    "    def set_Ethnicity(self, value):\n",
    "        self.__ethnicity = value\n",
    "\n",
    "    def get_Ethnicity(self):\n",
    "        return self.__ethnicity\n",
    "\n",
    "    def set_YearEnrolled(self, year):\n",
    "        self.__year_enrolled = year\n",
    "    \n",
    "    def get_YearEnrolled(self):\n",
    "        return self.__year_enrolled\n",
    "\n",
    "    def ReadyToGraduate(self, credit_hours, papers):\n",
    "        print(f'{self.name} has completed {credit_hours} credit hours and published {papers} papers till now.')\n",
    "        if credit_hours >= 120 and papers >= 1:\n",
    "            print(f'{self.name} is ready to graduate.')\n",
    "        else:\n",
    "            print(f'{self.name} is yet to meet graduation requirements.') \n",
    "\n",
    "    def studentDetails(self):\n",
    "        print(f'Here is the detail of the student: \\n Name: {self.name} \\n Age: {self.age} \\n Ethnicity: {self.__ethnicity} \\n Enrollment year: {self.__year_enrolled}.')"
   ]
  },
  {
   "cell_type": "markdown",
   "id": "521423a7",
   "metadata": {},
   "source": [
    "By encapsulating the attributes and providing controlled access through methods, we ensure that the attributes are accessed and modified appropriately. The private attributes __ethnicity and __year_enrolled cannot be directly accessed from outside the class. Attempting to do so will raise an AttributeError."
   ]
  },
  {
   "cell_type": "code",
   "execution_count": 2,
   "id": "699367c3",
   "metadata": {},
   "outputs": [],
   "source": [
    "# let's create an object carlos\n",
    "carlos = Students('Carlos', 22, 'Hispanic', 2018 )"
   ]
  },
  {
   "cell_type": "code",
   "execution_count": 3,
   "id": "531b44ba",
   "metadata": {},
   "outputs": [
    {
     "ename": "AttributeError",
     "evalue": "'Students' object has no attribute '__ethnicity'",
     "output_type": "error",
     "traceback": [
      "\u001b[0;31m---------------------------------------------------------------------------\u001b[0m",
      "\u001b[0;31mAttributeError\u001b[0m                            Traceback (most recent call last)",
      "Cell \u001b[0;32mIn[3], line 2\u001b[0m\n\u001b[1;32m      1\u001b[0m \u001b[38;5;66;03m# trying here to access the private attribute __ethnicity from outside the class\u001b[39;00m\n\u001b[0;32m----> 2\u001b[0m \u001b[43mcarlos\u001b[49m\u001b[38;5;241;43m.\u001b[39;49m\u001b[43m__ethnicity\u001b[49m()\n",
      "\u001b[0;31mAttributeError\u001b[0m: 'Students' object has no attribute '__ethnicity'"
     ]
    }
   ],
   "source": [
    "# trying here to access the private attribute __ethnicity from outside the class\n",
    "carlos.__ethnicity()"
   ]
  },
  {
   "cell_type": "code",
   "execution_count": 4,
   "id": "8c0271f4",
   "metadata": {},
   "outputs": [
    {
     "data": {
      "text/plain": [
       "'Hispanic'"
      ]
     },
     "execution_count": 4,
     "metadata": {},
     "output_type": "execute_result"
    }
   ],
   "source": [
    "carlos.get_Ethnicity()"
   ]
  },
  {
   "cell_type": "markdown",
   "id": "712b69ef",
   "metadata": {},
   "source": [
    "It shows that we have to use getter method to access the encapsulated attributes of the class Students."
   ]
  },
  {
   "cell_type": "code",
   "execution_count": 5,
   "id": "81a47077",
   "metadata": {},
   "outputs": [],
   "source": [
    "# let's try to modify an attribute which is not encapsulated from outside\n",
    "carlos.age=25"
   ]
  },
  {
   "cell_type": "code",
   "execution_count": 6,
   "id": "ea1a85b6",
   "metadata": {},
   "outputs": [
    {
     "name": "stdout",
     "output_type": "stream",
     "text": [
      "Here is the detail of the student: \n",
      " Name: Carlos \n",
      " Age: 25 \n",
      " Ethnicity: Hispanic \n",
      " Enrollment year: 2018.\n"
     ]
    }
   ],
   "source": [
    "carlos.studentDetails()"
   ]
  },
  {
   "cell_type": "markdown",
   "id": "ba64793e",
   "metadata": {},
   "source": [
    "We see that 'age' now is changed to 25 from 22. Let's try to do something similar to one of our encapsulated attribute ethnicity."
   ]
  },
  {
   "cell_type": "code",
   "execution_count": 7,
   "id": "e1b5fdaf",
   "metadata": {},
   "outputs": [],
   "source": [
    "carlos.__ethnicity = 'Asian'"
   ]
  },
  {
   "cell_type": "code",
   "execution_count": 8,
   "id": "af6693bb",
   "metadata": {},
   "outputs": [
    {
     "name": "stdout",
     "output_type": "stream",
     "text": [
      "Here is the detail of the student: \n",
      " Name: Carlos \n",
      " Age: 25 \n",
      " Ethnicity: Hispanic \n",
      " Enrollment year: 2018.\n"
     ]
    }
   ],
   "source": [
    "carlos.studentDetails()"
   ]
  },
  {
   "cell_type": "markdown",
   "id": "638a7ed7",
   "metadata": {},
   "source": [
    "We can see that it cannot be done as in case of 'age' attribute. We have to call the 'setter' method set_Ethnicity in order to modify them from outside. "
   ]
  },
  {
   "cell_type": "code",
   "execution_count": 9,
   "id": "d5d757a2",
   "metadata": {},
   "outputs": [],
   "source": [
    "carlos.set_Ethnicity('Asian')"
   ]
  },
  {
   "cell_type": "code",
   "execution_count": 10,
   "id": "daaca352",
   "metadata": {},
   "outputs": [
    {
     "name": "stdout",
     "output_type": "stream",
     "text": [
      "Here is the detail of the student: \n",
      " Name: Carlos \n",
      " Age: 25 \n",
      " Ethnicity: Asian \n",
      " Enrollment year: 2018.\n"
     ]
    }
   ],
   "source": [
    "carlos.studentDetails()"
   ]
  },
  {
   "cell_type": "code",
   "execution_count": 11,
   "id": "2949b357",
   "metadata": {},
   "outputs": [
    {
     "name": "stdout",
     "output_type": "stream",
     "text": [
      "Carlos has completed 119 credit hours and published 2 papers till now.\n",
      "Carlos is yet to meet graduation requirements.\n"
     ]
    }
   ],
   "source": [
    "# let's see if carlos is ready to graduate\n",
    "\n",
    "carlos.ReadyToGraduate(119,2)"
   ]
  },
  {
   "cell_type": "markdown",
   "id": "629b4e09",
   "metadata": {},
   "source": [
    "### Hmm! Carlos needs to take some additional classes in order to graduate."
   ]
  }
 ],
 "metadata": {
  "kernelspec": {
   "display_name": "Python 3 (ipykernel)",
   "language": "python",
   "name": "python3"
  },
  "language_info": {
   "codemirror_mode": {
    "name": "ipython",
    "version": 3
   },
   "file_extension": ".py",
   "mimetype": "text/x-python",
   "name": "python",
   "nbconvert_exporter": "python",
   "pygments_lexer": "ipython3",
   "version": "3.11.4"
  }
 },
 "nbformat": 4,
 "nbformat_minor": 5
}
